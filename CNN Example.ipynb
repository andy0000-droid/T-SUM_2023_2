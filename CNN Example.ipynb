{
 "cells": [
  {
   "cell_type": "markdown",
   "metadata": {},
   "source": [
    "# CNN Example code\n",
    "## Please install required module first\n",
    "### You need to install opencv, numpy, matplotlib"
   ]
  },
  {
   "cell_type": "code",
   "execution_count": 41,
   "metadata": {},
   "outputs": [
    {
     "name": "stdout",
     "output_type": "stream",
     "text": [
      "Python Platform: Linux-5.15.133.1-microsoft-standard-WSL2-build+-x86_64-with-glibc2.35\n",
      "Tensor Flow Version: 2.15.0\n",
      "Keras Version: 2.15.0\n",
      "\n",
      "Python 3.10.13 (main, Sep 11 2023, 13:44:35) [GCC 11.2.0]\n",
      "Pandas 2.1.4\n",
      "Scikit-Learn 1.3.2\n",
      "SciPy 1.11.4\n",
      "GPU is NOT AVAILABLE\n"
     ]
    }
   ],
   "source": [
    "import cv2\n",
    "import numpy as np\n",
    "import matplotlib.pyplot as plt\n",
    "import os\n",
    "import time\n",
    "import sys\n",
    "import tensorflow as tf\n",
    "import keras\n",
    "import pandas as pd\n",
    "import sklearn as sk\n",
    "import scipy as sp\n",
    "\n",
    "import platform\n",
    "\n",
    "print(f\"Python Platform: {platform.platform()}\")\n",
    "print(f\"Tensor Flow Version: {tf.__version__}\")\n",
    "print(f\"Keras Version: {keras.__version__}\")\n",
    "print()\n",
    "print(f\"Python {sys.version}\")\n",
    "print(f\"Pandas {pd.__version__}\")\n",
    "print(f\"Scikit-Learn {sk.__version__}\")\n",
    "print(f\"SciPy {sp.__version__}\")\n",
    "gpu = len(tf.config.list_physical_devices('GPU'))>0\n",
    "print(\"GPU is\", \"available\" if gpu else \"NOT AVAILABLE\")"
   ]
  },
  {
   "cell_type": "markdown",
   "metadata": {},
   "source": [
    "# Open file \\& Read image"
   ]
  },
  {
   "cell_type": "code",
   "execution_count": 42,
   "metadata": {},
   "outputs": [],
   "source": [
    "img_rows = 28\n",
    "img_cols = 28\n",
    "\n",
    "(x_train, y_train), (x_test, y_test) = keras.datasets.mnist.load_data()\n",
    "\n",
    "input_shape = (img_rows, img_cols, 1)"
   ]
  },
  {
   "cell_type": "code",
   "execution_count": 1,
   "metadata": {},
   "outputs": [
    {
     "data": {
      "text/plain": [
       "'for _i, _content in enumerate(y_train):\\n    if _i % 10 == 0 and _i != 0:\\n        print()\\n    print(_content, end=\", \")'"
      ]
     },
     "execution_count": 1,
     "metadata": {},
     "output_type": "execute_result"
    }
   ],
   "source": [
    "\"\"\"for _i, _content in enumerate(y_train):\n",
    "    if _i % 10 == 0 and _i != 0:\n",
    "        print()\n",
    "    print(_content, end=\", \")\"\"\""
   ]
  },
  {
   "cell_type": "code",
   "execution_count": 44,
   "metadata": {},
   "outputs": [
    {
     "data": {
      "text/plain": [
       "2"
      ]
     },
     "execution_count": 44,
     "metadata": {},
     "output_type": "execute_result"
    }
   ],
   "source": [
    "filter = np.array([[0,1,0],[0,1,1],[1,0,0]], dtype=np.uint8)\n",
    "len(filter.shape)"
   ]
  },
  {
   "cell_type": "code",
   "execution_count": 45,
   "metadata": {},
   "outputs": [],
   "source": [
    "class Network:\n",
    "    def __init__(self, trian) -> None:\n",
    "        self.istrain = trian\n",
    "\n",
    "    def conv_layer(self, filter, stride, padding):\n",
    "        if len(filter.shape) != 2:\n",
    "            raise Exception(\"Filter is not 2 dimension array\")\n",
    "        if self.istrain:\n",
    "            print(\"Running Trian process\")\n",
    "        else:\n",
    "            print(\"Running Test process\")\n",
    "    \n",
    "    def pooling_layer(self):\n",
    "        pass\n",
    "    \n",
    "    def fcn(self):\n",
    "        pass\n",
    "\n",
    "    def loss(self):\n",
    "        \n",
    "        pass\n",
    "\n",
    "    def activation(self):\n",
    "        # ReLU activation function\n",
    "        pass"
   ]
  },
  {
   "cell_type": "code",
   "execution_count": 46,
   "metadata": {},
   "outputs": [
    {
     "name": "stdout",
     "output_type": "stream",
     "text": [
      "Running Trian process\n"
     ]
    }
   ],
   "source": [
    "cnn = Network(trian=True)\n",
    "try:\n",
    "    cnn.conv_layer(filter=filter, stride=_, padding=_)\n",
    "except Exception as e:\n",
    "    print(e)"
   ]
  }
 ],
 "metadata": {
  "kernelspec": {
   "display_name": "t_sum",
   "language": "python",
   "name": "python3"
  },
  "language_info": {
   "codemirror_mode": {
    "name": "ipython",
    "version": 3
   },
   "file_extension": ".py",
   "mimetype": "text/x-python",
   "name": "python",
   "nbconvert_exporter": "python",
   "pygments_lexer": "ipython3",
   "version": "3.8.18"
  }
 },
 "nbformat": 4,
 "nbformat_minor": 2
}
